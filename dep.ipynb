{
 "cells": [
  {
   "cell_type": "code",
   "execution_count": 3,
   "metadata": {},
   "outputs": [],
   "source": [
    "import pandas as pd\n",
    "import json\n",
    "pd.options.mode.chained_assignment = None\n",
    "\n",
    "years = ['2008','2009','2010','2011','2012','2013','2014','2015','2016','2017','2018','2019','2020','2021']\n",
    "for year in years:\n",
    "\n",
    "    expenses = pd.read_csv('.\\\\raw_despesas\\\\Ano-'+year+'.csv', encoding = 'utf8', delimiter=';')\n",
    "    cpfs = expenses.drop_duplicates(subset='cpf')\n",
    "    cpfs[['cpf','txNomeParlamentar']].drop_duplicates()\n",
    "    \n",
    "    #iterate through deputados\n",
    "    for depIndex in range(1, len(cpfs)):\n",
    "\n",
    "\n",
    "        #VIS deputado first node\n",
    "        depNode = cpfs[['cpf','txNomeParlamentar']].iloc[depIndex] \n",
    "        allExpensesSingleDep = expenses[expenses['cpf'] == depNode[0]] #all expenses single dep\n",
    "        cnpjSingleDep = allExpensesSingleDep.drop_duplicates(subset='txtCNPJCPF')\n",
    "        cnpjSingleDep[['txtCNPJCPF','txtFornecedor']].drop_duplicates()\n",
    "\n",
    "        #VIS cnpj single dep nodes\n",
    "        allCnpjSingleDep = cnpjSingleDep[['txtCNPJCPF','txtFornecedor']] \n",
    "        allCnpjSingleDep['txtCNPJCPF']= allCnpjSingleDep['txtCNPJCPF'].str.replace('\\.|\\/|\\-|\\ ', '',regex=True)\n",
    "\n",
    "        #VIS cnpj single dep edges\n",
    "        allExpensesSingleDep['txtCNPJCPF']= allExpensesSingleDep['txtCNPJCPF'].str.replace('\\.|\\/|\\-|\\ ', '',regex=True)\n",
    "        allExpensesSingleDep = allExpensesSingleDep[['cpf','txtCNPJCPF']]\n",
    "\n",
    "        #Save Nodes to Json\n",
    "        depNodeJson = json.loads(depNode.to_json())\n",
    "        depNodeJson['id'] = depNodeJson.pop('cpf')\n",
    "        depNodeJson['label'] = depNodeJson.pop('txNomeParlamentar')\n",
    "        depNodeJson['shape'] = 'circle'\n",
    "\n",
    "        #set filename as deputado CPF\n",
    "        filename = str(int(depNodeJson['id']))\n",
    "\n",
    "        allCnpjSingleDep.rename(columns = {'txtCNPJCPF':'id', 'txtFornecedor':'label'}, inplace = True)\n",
    "        allCnpjSingleDep.insert(loc=len(allCnpjSingleDep.columns), column='shape', value='box')\n",
    "        allCnpjSingleDepJson = json.loads(allCnpjSingleDep.to_json(orient=\"records\"))\n",
    "\n",
    "        #adding deputado node to json array\n",
    "        allCnpjSingleDepJson.append(depNodeJson.copy())\n",
    "\n",
    "        out_file = open(\"./web/despesas/depnodesedges/\"+year+\"/n\"+filename+\".json\", \"w\")\n",
    "        json.dump(allCnpjSingleDepJson,out_file, separators=(',', ':'))\n",
    "        out_file.close()\n",
    "\n",
    "\n",
    "        #Save Edges to Json\n",
    "        allExpensesSingleDep.rename(columns = {'cpf':'from', 'txtCNPJCPF':'to'}, inplace = True)\n",
    "        allExpensesSingleDepJson = json.loads(allExpensesSingleDep.to_json(orient=\"records\"))\n",
    "\n",
    "        out_file = open(\"./web/despesas/depnodesedges/\"+year+\"/e\"+filename+\".json\", \"w\")\n",
    "        json.dump(allExpensesSingleDepJson,out_file, separators=(',', ':'))\n",
    "        out_file.close() "
   ]
  }
 ],
 "metadata": {
  "interpreter": {
   "hash": "436a735bb292dfe3b72c36dda351f3743952b8c81a5c1a6834cb65af56951030"
  },
  "kernelspec": {
   "display_name": "Python 3.10.1 64-bit",
   "language": "python",
   "name": "python3"
  },
  "language_info": {
   "codemirror_mode": {
    "name": "ipython",
    "version": 3
   },
   "file_extension": ".py",
   "mimetype": "text/x-python",
   "name": "python",
   "nbconvert_exporter": "python",
   "pygments_lexer": "ipython3",
   "version": "3.10.1"
  },
  "orig_nbformat": 4
 },
 "nbformat": 4,
 "nbformat_minor": 2
}
